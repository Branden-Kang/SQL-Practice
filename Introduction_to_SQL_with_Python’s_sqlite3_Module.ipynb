{
  "nbformat": 4,
  "nbformat_minor": 0,
  "metadata": {
    "colab": {
      "provenance": [],
      "authorship_tag": "ABX9TyPoZs9CHhf2falUD8RiR+Hu"
    },
    "kernelspec": {
      "name": "python3",
      "display_name": "Python 3"
    },
    "language_info": {
      "name": "python"
    }
  },
  "cells": [
    {
      "cell_type": "markdown",
      "source": [
        "[Reference](https://medium.com/@matthew.paz/introduction-to-sql-with-sqlite-f8a4f4f6c161)"
      ],
      "metadata": {
        "id": "KLVhu2zONa7E"
      }
    },
    {
      "cell_type": "code",
      "execution_count": 1,
      "metadata": {
        "id": "QkCKtCpfNX4i"
      },
      "outputs": [],
      "source": [
        "#Importing sqlite module\n",
        "import sqlite3\n",
        "\n",
        "#Establishing a connection to our database\n",
        "conn = sqlite3.connect(\"pet_store.db\")\n",
        "\n",
        "#Allows us to interact with our database\n",
        "cursor = conn.cursor()"
      ]
    },
    {
      "cell_type": "code",
      "source": [
        "#Creating pets table\n",
        "cursor.execute(\"\"\"CREATE TABLE pets (pet_id INTEGER PRIMARY KEY AUTOINCREMENT, \n",
        "                name TEXT NOT NULL, species TEXT NOT NULL, gender TEXT NOT NULL, \n",
        "                DOB TEXT NOT NULL, price REAL NOT NULL)\"\"\")"
      ],
      "metadata": {
        "colab": {
          "base_uri": "https://localhost:8080/"
        },
        "id": "Zt8rDoVnNdqa",
        "outputId": "0fb39b7f-884e-404a-a1f5-b9cad3f4fcb1"
      },
      "execution_count": 2,
      "outputs": [
        {
          "output_type": "execute_result",
          "data": {
            "text/plain": [
              "<sqlite3.Cursor at 0x7f75b98be570>"
            ]
          },
          "metadata": {},
          "execution_count": 2
        }
      ]
    },
    {
      "cell_type": "code",
      "source": [
        "#Inserting our first record into our table\n",
        "cursor.execute(\"\"\" INSERT INTO pets (name, species, gender, DOB, price)\n",
        "                VALUES ('Herschie', 'dog', 'M', '01/01/2009', 2500.00)\"\"\")\n",
        "\n",
        "\n",
        "#Save data to database\n",
        "conn.commit()"
      ],
      "metadata": {
        "id": "LyqsJtbQNg6_"
      },
      "execution_count": 3,
      "outputs": []
    },
    {
      "cell_type": "code",
      "source": [
        "#List containing new records to be inserted into our table\n",
        "pets = [\n",
        "    ('Patches', 'cat', 'M', '05/20/2021', 500.00),\n",
        "    ('Pgusley', 'dog', 'M', '07/05/2021', 750.00),\n",
        "    ('Normie', 'turtle', 'M', '04/23/2020', 250.00),\n",
        "    ('Lisa', 'cat', 'F', '07/23/2021', 125.00),\n",
        "    ('Lassie', 'dog', 'F', '09/12/1954', 50.00)\n",
        "]\n",
        "\n",
        "#Variable containing insert into statement\n",
        "sql = 'INSERT INTO pets (name, species, gender, DOB, price) VALUES (?,?,?,?,?)'\n",
        "\n",
        "#Insert multiple records in a single statement\n",
        "cursor.executemany(sql, pets)\n",
        "\n",
        "#Save changes to our database\n",
        "conn.commit()\n",
        "\n",
        "#Printing the number of rows added to our table\n",
        "print(cursor.rowcount, \"rows were added to the table\")"
      ],
      "metadata": {
        "colab": {
          "base_uri": "https://localhost:8080/"
        },
        "id": "9GFuixLmNhDZ",
        "outputId": "395bedb0-e159-47bb-a858-13356ebdba01"
      },
      "execution_count": 4,
      "outputs": [
        {
          "output_type": "stream",
          "name": "stdout",
          "text": [
            "5 rows were added to the table\n"
          ]
        }
      ]
    },
    {
      "cell_type": "code",
      "source": [
        "#Creating variable containing UPDATE statement\n",
        "update = \"\"\"\n",
        "UPDATE pets\n",
        "SET name = 'Pugsley'\n",
        "WHERE pet_id = 3\n",
        "\"\"\"\n",
        "#Modifying existing row\n",
        "cursor.execute(update)\n",
        "\n",
        "#Save changes to our database\n",
        "conn.commit()"
      ],
      "metadata": {
        "id": "UhFDSMawNihq"
      },
      "execution_count": 5,
      "outputs": []
    },
    {
      "cell_type": "code",
      "source": [
        "#Creating variable containing DELETE statement\n",
        "deletion = \"\"\"\n",
        "DELETE FROM pets\n",
        "WHERE pet_id = 6\n",
        "\"\"\"\n",
        "\n",
        "#Removing exisiting row from table\n",
        "cursor.execute(deletion)\n",
        "\n",
        "#Save changes to our database\n",
        "conn.commit()"
      ],
      "metadata": {
        "id": "qHGurHVZNkJq"
      },
      "execution_count": 6,
      "outputs": []
    },
    {
      "cell_type": "code",
      "source": [
        "#Creating variable containing the select statement\n",
        "sql = \"\"\"\n",
        "SELECT name\n",
        "FROM pets\n",
        "\"\"\"\n",
        "\n",
        "#Executing the select statement\n",
        "cursor.execute(sql)\n",
        "\n",
        "#Retrieves all of the results from the query\n",
        "cursor.fetchall()"
      ],
      "metadata": {
        "colab": {
          "base_uri": "https://localhost:8080/"
        },
        "id": "atvzgQU2NlmG",
        "outputId": "d21eb606-d4fe-43c8-c406-b5c587bc61d4"
      },
      "execution_count": 7,
      "outputs": [
        {
          "output_type": "execute_result",
          "data": {
            "text/plain": [
              "[('Herschie',), ('Patches',), ('Pugsley',), ('Normie',), ('Lisa',)]"
            ]
          },
          "metadata": {},
          "execution_count": 7
        }
      ]
    },
    {
      "cell_type": "code",
      "source": [
        "#Variable containing SELECT statement\n",
        "sql = \"\"\"\n",
        "SELECT *\n",
        "FROM pets\n",
        "\"\"\"\n",
        "\n",
        "#Executing the SELECT query\n",
        "cursor.execute(sql)\n",
        "\n",
        "#Retrieving all of the results from the execute query\n",
        "cursor.fetchall()"
      ],
      "metadata": {
        "id": "INZ4yweSNnUv",
        "outputId": "72f5114d-3c80-445c-ed31-36f121db5252",
        "colab": {
          "base_uri": "https://localhost:8080/"
        }
      },
      "execution_count": 8,
      "outputs": [
        {
          "output_type": "execute_result",
          "data": {
            "text/plain": [
              "[(1, 'Herschie', 'dog', 'M', '01/01/2009', 2500.0),\n",
              " (2, 'Patches', 'cat', 'M', '05/20/2021', 500.0),\n",
              " (3, 'Pugsley', 'dog', 'M', '07/05/2021', 750.0),\n",
              " (4, 'Normie', 'turtle', 'M', '04/23/2020', 250.0),\n",
              " (5, 'Lisa', 'cat', 'F', '07/23/2021', 125.0)]"
            ]
          },
          "metadata": {},
          "execution_count": 8
        }
      ]
    },
    {
      "cell_type": "code",
      "source": [
        "#Variable containing SELECT statement with filtering\n",
        "sql = \"\"\"\n",
        "SELECT *\n",
        "FROM pets\n",
        "WHERE gender <> 'M'\n",
        "\"\"\"\n",
        "\n",
        "#Executing the SELECT query\n",
        "cursor.execute(sql)\n",
        "\n",
        "#Retrieving all of the results from the execute query\n",
        "cursor.fetchall()"
      ],
      "metadata": {
        "id": "gZOVjvw7NpAy",
        "outputId": "1d8b7aa4-d60c-4f7b-b1b3-c749eb7e849b",
        "colab": {
          "base_uri": "https://localhost:8080/"
        }
      },
      "execution_count": 9,
      "outputs": [
        {
          "output_type": "execute_result",
          "data": {
            "text/plain": [
              "[(5, 'Lisa', 'cat', 'F', '07/23/2021', 125.0)]"
            ]
          },
          "metadata": {},
          "execution_count": 9
        }
      ]
    },
    {
      "cell_type": "code",
      "source": [
        "#Variable containing SELECT statement with filtering\n",
        "sql = \"\"\"\n",
        "SELECT name, price\n",
        "FROM pets\n",
        "WHERE price BETWEEN 200.00 AND 800.00\n",
        "ORDER BY price ASC\n",
        "\"\"\"\n",
        "\n",
        "#Executing the SELECT query\n",
        "cursor.execute(sql)\n",
        "\n",
        "#Retrieving all of the results\n",
        "cursor.fetchall()"
      ],
      "metadata": {
        "id": "rwQz2tGeNqlj",
        "outputId": "be7263ce-f38e-4bec-e010-9d9026f48bab",
        "colab": {
          "base_uri": "https://localhost:8080/"
        }
      },
      "execution_count": 10,
      "outputs": [
        {
          "output_type": "execute_result",
          "data": {
            "text/plain": [
              "[('Normie', 250.0), ('Patches', 500.0), ('Pugsley', 750.0)]"
            ]
          },
          "metadata": {},
          "execution_count": 10
        }
      ]
    },
    {
      "cell_type": "code",
      "source": [
        "#Closing connection to our database\n",
        "conn.close()"
      ],
      "metadata": {
        "id": "6O_CMCmMNr36"
      },
      "execution_count": 11,
      "outputs": []
    }
  ]
}