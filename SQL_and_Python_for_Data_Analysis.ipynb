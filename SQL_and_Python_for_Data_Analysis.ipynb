{
  "nbformat": 4,
  "nbformat_minor": 0,
  "metadata": {
    "colab": {
      "provenance": [],
      "authorship_tag": "ABX9TyP04txVdTnFpoY0ESPtCTCs"
    },
    "kernelspec": {
      "name": "python3",
      "display_name": "Python 3"
    },
    "language_info": {
      "name": "python"
    }
  },
  "cells": [
    {
      "cell_type": "markdown",
      "source": [
        "[Reference](https://medium.com/@zeitdeuter/sql-and-python-for-data-analysis-605f255125e)"
      ],
      "metadata": {
        "id": "BxKjM417je-m"
      }
    },
    {
      "cell_type": "code",
      "execution_count": 1,
      "metadata": {
        "id": "RnSqSqckjQgN"
      },
      "outputs": [],
      "source": [
        "import sqlite3\n",
        "from sqlite3 import Error\n",
        "\n",
        "\n",
        "\n",
        "def create_connection(path):\n",
        "    connection = None\n",
        "    try:\n",
        "        connection = sqlite3.connect(path, timeout=20)\n",
        "        print(\"Connection to SQLite is successful\")\n",
        "    except Error as e:\n",
        "        print(f\"The error '{e}' occured\")\n",
        "    \n",
        "    return connection\n",
        "\n",
        "if __name__ == \"__main__\":\n",
        "    pass"
      ]
    },
    {
      "cell_type": "code",
      "source": [
        "rented_film_and_revenue = \"\"\"\n",
        "WITH rented_film as (\n",
        "SELECT\n",
        "\trental.rental_id,\n",
        "\tfilm.film_id,\n",
        "\tfilm.title,\n",
        "\tfilm.rental_rate,\n",
        "\tfilm.replacement_cost\n",
        "FROM inventory\n",
        "JOIN film ON inventory.film_id = film.film_id\n",
        "JOIN rental ON inventory.inventory_id = rental.inventory_id\n",
        ")\n",
        "SELECT\n",
        "\trented_film.title,\n",
        "\tcount(rented_film.title) as n_film,\n",
        "\tsum(payment.amount) as revenue_by_film\n",
        "FROM payment\n",
        "JOIN rented_film USING(rental_id)\n",
        "GROUP BY rented_film.title\n",
        "\"\"\"\n",
        "\n",
        "rented_film_by_customer = \"\"\"\n",
        "WITH rented_film as (\n",
        "SELECT\n",
        "\trental.customer_id,\n",
        "\tfilm.film_id,\n",
        "\tfilm.title,\n",
        "\tfilm.rental_rate\n",
        "FROM inventory\n",
        "JOIN film ON inventory.film_id = film.film_id\n",
        "JOIN rental ON inventory.inventory_id = rental.inventory_id\n",
        ")\n",
        "SELECT\n",
        "\tcustomer.first_name,\n",
        "\tcustomer.last_name,\n",
        "\tcount(rented_film.title) as n_film\n",
        "FROM customer\n",
        "LEFT JOIN rented_film on customer.customer_id = rented_film.customer_id\n",
        "GROUP BY customer.first_name, customer.last_name;\n",
        "\"\"\""
      ],
      "metadata": {
        "id": "Oii7lP90kDY_"
      },
      "execution_count": 8,
      "outputs": []
    },
    {
      "cell_type": "code",
      "source": [
        "import pandas as pd\n",
        "import matplotlib.pyplot as plt\n",
        "import seaborn as sns\n",
        "import warnings"
      ],
      "metadata": {
        "id": "2mtNGa-Vjhkw"
      },
      "execution_count": 3,
      "outputs": []
    },
    {
      "cell_type": "code",
      "source": [
        "pd.plotting.register_matplotlib_converters()\n",
        "plt.style.use(\"seaborn-whitegrid\")\n",
        "pd.set_option(\"display.max_columns\", 500)\n",
        "warnings.filterwarnings(\"ignore\")"
      ],
      "metadata": {
        "id": "9WQ5IZGjjlUW"
      },
      "execution_count": 4,
      "outputs": []
    },
    {
      "cell_type": "code",
      "source": [
        "# SQL_PATH = 'sqlite-sakila.db'\n",
        "# connection = create_connection(SQL_PATH)\n",
        "\n",
        "# df = pd.read_sql_query(rented_film_by_customer, connection)\n",
        "# df.head()\n",
        "# df.info()"
      ],
      "metadata": {
        "id": "rMnchW5HjpJL"
      },
      "execution_count": 5,
      "outputs": []
    },
    {
      "cell_type": "code",
      "source": [
        "# df[df.duplicated()]\n",
        "# df.sort_values(\"n_film\", ascending=False)[:10]"
      ],
      "metadata": {
        "id": "-z1izKTrj5dZ"
      },
      "execution_count": 6,
      "outputs": []
    },
    {
      "cell_type": "code",
      "source": [
        "# most_renter = df.sort_values(\"n_film\", ascending=False)[:10]\n",
        "\n",
        "# # Create new column that concates customer first and last name\n",
        "# most_renter[\"full_name\"] = most_renter[\"first_name\"] + \" \" + most_renter[\"last_name\"]\n",
        "\n",
        "# plt.figure(figsize=(10, 5))\n",
        "\n",
        "# ax = sns.barplot(x=\"n_film\", \n",
        "#             y=\"full_name\",\n",
        "#             palette=\"YlGnBu_r\",\n",
        "#             data=most_renter)\n",
        "\n",
        "# ax.bar_label(ax.containers[0])\n",
        "# ax.grid(False)\n",
        "\n",
        "# plt.xlabel(\"Number of Rented Film\")\n",
        "# plt.ylabel(\"Customer Name\")\n",
        "# plt.title(\"Top 10 Customer with Most Rent\")\n",
        "\n",
        "# plt.show()"
      ],
      "metadata": {
        "id": "ml34nU6Pj-Ge"
      },
      "execution_count": 7,
      "outputs": []
    }
  ]
}