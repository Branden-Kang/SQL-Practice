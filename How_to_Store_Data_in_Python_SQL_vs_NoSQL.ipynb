{
  "nbformat": 4,
  "nbformat_minor": 0,
  "metadata": {
    "colab": {
      "provenance": [],
      "authorship_tag": "ABX9TyPtaEuN7omzvNeKGg61/Kfz"
    },
    "kernelspec": {
      "name": "python3",
      "display_name": "Python 3"
    },
    "language_info": {
      "name": "python"
    }
  },
  "cells": [
    {
      "cell_type": "markdown",
      "source": [
        "[Reference](https://python.plainenglish.io/python-data-storing-sql-vs-nosql-27ec0acd53b7)"
      ],
      "metadata": {
        "id": "anUyhX9TT8hf"
      }
    },
    {
      "cell_type": "markdown",
      "source": [
        "# 1. Installing the requirements"
      ],
      "metadata": {
        "id": "RIYKt6Y8UBgQ"
      }
    },
    {
      "cell_type": "code",
      "execution_count": 1,
      "metadata": {
        "colab": {
          "base_uri": "https://localhost:8080/"
        },
        "id": "JR6x4CiWT5_e",
        "outputId": "0c8f4c63-c819-4107-a950-2a8daa13fb97"
      },
      "outputs": [
        {
          "output_type": "stream",
          "name": "stdout",
          "text": [
            "Looking in indexes: https://pypi.org/simple, https://us-python.pkg.dev/colab-wheels/public/simple/\n",
            "Collecting tinydb\n",
            "  Downloading tinydb-4.7.1-py3-none-any.whl (24 kB)\n",
            "Installing collected packages: tinydb\n",
            "Successfully installed tinydb-4.7.1\n",
            "Looking in indexes: https://pypi.org/simple, https://us-python.pkg.dev/colab-wheels/public/simple/\n",
            "Requirement already satisfied: pandas in /usr/local/lib/python3.8/dist-packages (1.3.5)\n",
            "Requirement already satisfied: pytz>=2017.3 in /usr/local/lib/python3.8/dist-packages (from pandas) (2022.7.1)\n",
            "Requirement already satisfied: python-dateutil>=2.7.3 in /usr/local/lib/python3.8/dist-packages (from pandas) (2.8.2)\n",
            "Requirement already satisfied: numpy>=1.17.3 in /usr/local/lib/python3.8/dist-packages (from pandas) (1.22.4)\n",
            "Requirement already satisfied: six>=1.5 in /usr/local/lib/python3.8/dist-packages (from python-dateutil>=2.7.3->pandas) (1.15.0)\n"
          ]
        }
      ],
      "source": [
        "!pip install tinydb\n",
        "!pip install pandas"
      ]
    },
    {
      "cell_type": "markdown",
      "source": [
        "# 2. Preparing the example data"
      ],
      "metadata": {
        "id": "-yu0cLAFUC1N"
      }
    },
    {
      "cell_type": "code",
      "source": [
        "import pandas as pd\n",
        "\n",
        "# DATA ############################à\n",
        "user_data = [\n",
        "    {'userId':1, 'name': 'John', 'age': 20, 'countryId': 1},\n",
        "    {'userId':2, 'name': 'Jack', 'age': 25, 'countryId': 1},\n",
        "    {'userId':3, 'name': 'Jill', 'age': 20, 'countryId': 2},\n",
        "    {'userId':4, 'name': 'Mario', 'age': 45, 'countryId': 3},\n",
        "    {'userId':5, 'name': 'Luigi', 'age': 40, 'countryId': 3},\n",
        "]\n",
        "countries = [\n",
        "    {'countryId': 1, 'name': 'USA'},\n",
        "    {'countryId': 2, 'name': 'UK'},\n",
        "    {'countryId': 3, 'name': 'ITALY'},\n",
        "]\n",
        "\n",
        "# DFs for SQL\n",
        "user_df = pd.DataFrame(user_data)\n",
        "countries_df = pd.DataFrame(countries)\n",
        "\n",
        "# DF for NoSQL\n",
        "join_df = user_df.merge(countries_df, left_on='countryId', right_on='countryId')\n",
        "join_df.rename(columns={'name_y': 'country', 'name_x':'name'}, inplace=True)"
      ],
      "metadata": {
        "id": "dQ8Fz9CDUAEQ"
      },
      "execution_count": 2,
      "outputs": []
    },
    {
      "cell_type": "markdown",
      "source": [
        "# 3. Working with SQL"
      ],
      "metadata": {
        "id": "rgm_V9l6UGpK"
      }
    },
    {
      "cell_type": "code",
      "source": [
        "import sqlite3  # SQL DB\n",
        "\n",
        "# SQL database ##########################\n",
        "sql_db = sqlite3.connect('./sqlite_db.db')\n",
        "user_df = pd.DataFrame(user_data)\n",
        "countries_df = pd.DataFrame(countries)\n",
        "\n",
        "user_df.to_sql('users', sql_db, if_exists='replace', index=False)\n",
        "countries_df.to_sql('countries', sql_db, if_exists='replace', index=False)\n",
        "\n",
        "# SELECTING\n",
        "pd.read_sql(\"SELECT * FROM users\", sql_db)\n",
        "pd.read_sql(\"SELECT * FROM countries\", sql_db)\n",
        "# FILTERING\n",
        "pd.read_sql(\"SELECT * FROM users WHERE age > 25\", sql_db)\n",
        "# SORTING\n",
        "pd.read_sql(\"SELECT * FROM users ORDER BY age DESC\", sql_db)\n",
        "# GROUPING\n",
        "pd.read_sql('SELECT countryId, AVG(age) \"AvgAge\" FROM users GROUP BY countryId', sql_db)\n",
        "# JOINING\n",
        "pd.read_sql('SELECT users.name, countries.name FROM users JOIN countries ON users.countryId = countries.countryId', sql_db)"
      ],
      "metadata": {
        "colab": {
          "base_uri": "https://localhost:8080/",
          "height": 204
        },
        "id": "c5f2Q0uiUEvu",
        "outputId": "c17388f5-b655-4cc8-d5d4-29b7b7b7b630"
      },
      "execution_count": 4,
      "outputs": [
        {
          "output_type": "execute_result",
          "data": {
            "text/plain": [
              "    name   name\n",
              "0   John    USA\n",
              "1   Jack    USA\n",
              "2   Jill     UK\n",
              "3  Mario  ITALY\n",
              "4  Luigi  ITALY"
            ],
            "text/html": [
              "\n",
              "  <div id=\"df-c2c53ab5-c8cc-4506-91a2-64802d3d13f9\">\n",
              "    <div class=\"colab-df-container\">\n",
              "      <div>\n",
              "<style scoped>\n",
              "    .dataframe tbody tr th:only-of-type {\n",
              "        vertical-align: middle;\n",
              "    }\n",
              "\n",
              "    .dataframe tbody tr th {\n",
              "        vertical-align: top;\n",
              "    }\n",
              "\n",
              "    .dataframe thead th {\n",
              "        text-align: right;\n",
              "    }\n",
              "</style>\n",
              "<table border=\"1\" class=\"dataframe\">\n",
              "  <thead>\n",
              "    <tr style=\"text-align: right;\">\n",
              "      <th></th>\n",
              "      <th>name</th>\n",
              "      <th>name</th>\n",
              "    </tr>\n",
              "  </thead>\n",
              "  <tbody>\n",
              "    <tr>\n",
              "      <th>0</th>\n",
              "      <td>John</td>\n",
              "      <td>USA</td>\n",
              "    </tr>\n",
              "    <tr>\n",
              "      <th>1</th>\n",
              "      <td>Jack</td>\n",
              "      <td>USA</td>\n",
              "    </tr>\n",
              "    <tr>\n",
              "      <th>2</th>\n",
              "      <td>Jill</td>\n",
              "      <td>UK</td>\n",
              "    </tr>\n",
              "    <tr>\n",
              "      <th>3</th>\n",
              "      <td>Mario</td>\n",
              "      <td>ITALY</td>\n",
              "    </tr>\n",
              "    <tr>\n",
              "      <th>4</th>\n",
              "      <td>Luigi</td>\n",
              "      <td>ITALY</td>\n",
              "    </tr>\n",
              "  </tbody>\n",
              "</table>\n",
              "</div>\n",
              "      <button class=\"colab-df-convert\" onclick=\"convertToInteractive('df-c2c53ab5-c8cc-4506-91a2-64802d3d13f9')\"\n",
              "              title=\"Convert this dataframe to an interactive table.\"\n",
              "              style=\"display:none;\">\n",
              "        \n",
              "  <svg xmlns=\"http://www.w3.org/2000/svg\" height=\"24px\"viewBox=\"0 0 24 24\"\n",
              "       width=\"24px\">\n",
              "    <path d=\"M0 0h24v24H0V0z\" fill=\"none\"/>\n",
              "    <path d=\"M18.56 5.44l.94 2.06.94-2.06 2.06-.94-2.06-.94-.94-2.06-.94 2.06-2.06.94zm-11 1L8.5 8.5l.94-2.06 2.06-.94-2.06-.94L8.5 2.5l-.94 2.06-2.06.94zm10 10l.94 2.06.94-2.06 2.06-.94-2.06-.94-.94-2.06-.94 2.06-2.06.94z\"/><path d=\"M17.41 7.96l-1.37-1.37c-.4-.4-.92-.59-1.43-.59-.52 0-1.04.2-1.43.59L10.3 9.45l-7.72 7.72c-.78.78-.78 2.05 0 2.83L4 21.41c.39.39.9.59 1.41.59.51 0 1.02-.2 1.41-.59l7.78-7.78 2.81-2.81c.8-.78.8-2.07 0-2.86zM5.41 20L4 18.59l7.72-7.72 1.47 1.35L5.41 20z\"/>\n",
              "  </svg>\n",
              "      </button>\n",
              "      \n",
              "  <style>\n",
              "    .colab-df-container {\n",
              "      display:flex;\n",
              "      flex-wrap:wrap;\n",
              "      gap: 12px;\n",
              "    }\n",
              "\n",
              "    .colab-df-convert {\n",
              "      background-color: #E8F0FE;\n",
              "      border: none;\n",
              "      border-radius: 50%;\n",
              "      cursor: pointer;\n",
              "      display: none;\n",
              "      fill: #1967D2;\n",
              "      height: 32px;\n",
              "      padding: 0 0 0 0;\n",
              "      width: 32px;\n",
              "    }\n",
              "\n",
              "    .colab-df-convert:hover {\n",
              "      background-color: #E2EBFA;\n",
              "      box-shadow: 0px 1px 2px rgba(60, 64, 67, 0.3), 0px 1px 3px 1px rgba(60, 64, 67, 0.15);\n",
              "      fill: #174EA6;\n",
              "    }\n",
              "\n",
              "    [theme=dark] .colab-df-convert {\n",
              "      background-color: #3B4455;\n",
              "      fill: #D2E3FC;\n",
              "    }\n",
              "\n",
              "    [theme=dark] .colab-df-convert:hover {\n",
              "      background-color: #434B5C;\n",
              "      box-shadow: 0px 1px 3px 1px rgba(0, 0, 0, 0.15);\n",
              "      filter: drop-shadow(0px 1px 2px rgba(0, 0, 0, 0.3));\n",
              "      fill: #FFFFFF;\n",
              "    }\n",
              "  </style>\n",
              "\n",
              "      <script>\n",
              "        const buttonEl =\n",
              "          document.querySelector('#df-c2c53ab5-c8cc-4506-91a2-64802d3d13f9 button.colab-df-convert');\n",
              "        buttonEl.style.display =\n",
              "          google.colab.kernel.accessAllowed ? 'block' : 'none';\n",
              "\n",
              "        async function convertToInteractive(key) {\n",
              "          const element = document.querySelector('#df-c2c53ab5-c8cc-4506-91a2-64802d3d13f9');\n",
              "          const dataTable =\n",
              "            await google.colab.kernel.invokeFunction('convertToInteractive',\n",
              "                                                     [key], {});\n",
              "          if (!dataTable) return;\n",
              "\n",
              "          const docLinkHtml = 'Like what you see? Visit the ' +\n",
              "            '<a target=\"_blank\" href=https://colab.research.google.com/notebooks/data_table.ipynb>data table notebook</a>'\n",
              "            + ' to learn more about interactive tables.';\n",
              "          element.innerHTML = '';\n",
              "          dataTable['output_type'] = 'display_data';\n",
              "          await google.colab.output.renderOutput(dataTable, element);\n",
              "          const docLink = document.createElement('div');\n",
              "          docLink.innerHTML = docLinkHtml;\n",
              "          element.appendChild(docLink);\n",
              "        }\n",
              "      </script>\n",
              "    </div>\n",
              "  </div>\n",
              "  "
            ]
          },
          "metadata": {},
          "execution_count": 4
        }
      ]
    },
    {
      "cell_type": "markdown",
      "source": [
        "# 4. Working with NoSQL (TinyDB)"
      ],
      "metadata": {
        "id": "sZBY_FQCUKTj"
      }
    },
    {
      "cell_type": "code",
      "source": [
        "from tinydb import TinyDB, Query # NOSQL DB\n",
        "\n",
        "# NOSQL database ######################\n",
        "nosql_db = TinyDB('./tinydb_db.json')\n",
        "# JOIN df\n",
        "join_df = user_df.merge(countries_df, left_on='countryId', right_on='countryId')\n",
        "join_df.rename(columns={'name_y': 'country', 'name_x':'name'}, inplace=True)\n",
        "# CONVERT THE DF TO DICT\n",
        "join_dict = join_df.to_dict('records')\n",
        "nosql_db.insert_multiple(join_dict)\n",
        "\n",
        "# SELECTING\n",
        "nosql_db.all()\n",
        "# FILTERING\n",
        "nosql_db.search(Query().age > 25)\n",
        "# ADVANCED FILTERING\n",
        "first_letter_j = lambda x: x[0] == 'J'\n",
        "nosql_db.search(Query().name.test(first_letter_j))"
      ],
      "metadata": {
        "colab": {
          "base_uri": "https://localhost:8080/"
        },
        "id": "h-zHs1kkUIlD",
        "outputId": "fc27a506-574c-4569-b0c7-0f0a12919cf6"
      },
      "execution_count": 5,
      "outputs": [
        {
          "output_type": "execute_result",
          "data": {
            "text/plain": [
              "[{'userId': 1, 'name': 'John', 'age': 20, 'countryId': 1, 'country': 'USA'},\n",
              " {'userId': 2, 'name': 'Jack', 'age': 25, 'countryId': 1, 'country': 'USA'},\n",
              " {'userId': 3, 'name': 'Jill', 'age': 20, 'countryId': 2, 'country': 'UK'}]"
            ]
          },
          "metadata": {},
          "execution_count": 5
        }
      ]
    }
  ]
}